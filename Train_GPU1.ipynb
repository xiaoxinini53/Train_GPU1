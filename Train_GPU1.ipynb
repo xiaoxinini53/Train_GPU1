{
  "nbformat": 4,
  "nbformat_minor": 0,
  "metadata": {
    "colab": {
      "provenance": [],
      "gpuType": "T4",
      "authorship_tag": "ABX9TyPg6ULCLu4jPRZxX6GUYhSJ",
      "include_colab_link": true
    },
    "kernelspec": {
      "name": "python3",
      "display_name": "Python 3"
    },
    "language_info": {
      "name": "python"
    },
    "accelerator": "GPU"
  },
  "cells": [
    {
      "cell_type": "markdown",
      "metadata": {
        "id": "view-in-github",
        "colab_type": "text"
      },
      "source": [
        "<a href=\"https://colab.research.google.com/github/xiaoxinini53/Train_GPU1/blob/main/Train_GPU1.ipynb\" target=\"_parent\"><img src=\"https://colab.research.google.com/assets/colab-badge.svg\" alt=\"Open In Colab\"/></a>"
      ]
    },
    {
      "cell_type": "code",
      "execution_count": null,
      "metadata": {
        "colab": {
          "base_uri": "https://localhost:8080/"
        },
        "id": "brV5O-wDz0xh",
        "outputId": "e019690b-f814-45d1-de10-3a28007d3505"
      },
      "outputs": [
        {
          "output_type": "stream",
          "name": "stdout",
          "text": [
            "Downloading https://www.cs.toronto.edu/~kriz/cifar-10-python.tar.gz to ../dataset/cifar-10-python.tar.gz\n"
          ]
        },
        {
          "output_type": "stream",
          "name": "stderr",
          "text": [
            "100%|██████████| 170498071/170498071 [00:06<00:00, 27993418.67it/s]\n"
          ]
        },
        {
          "output_type": "stream",
          "name": "stdout",
          "text": [
            "Extracting ../dataset/cifar-10-python.tar.gz to ../dataset\n",
            "Files already downloaded and verified\n",
            "训练集有50000张\n",
            "测试集有10000张\n",
            "-----第1轮训练-----\n"
          ]
        },
        {
          "output_type": "stream",
          "name": "stderr",
          "text": [
            "100%|██████████| 782/782 [00:16<00:00, 47.79it/s]\n"
          ]
        },
        {
          "output_type": "stream",
          "name": "stdout",
          "text": [
            "训练次数: 782 , loss: 2.138169288635254\n",
            "模型已保存\n",
            "整体测试集上的loss:311.59235191345215\n",
            "整体正确率为:0.2874000072479248\n",
            "-----第2轮训练-----\n"
          ]
        },
        {
          "output_type": "stream",
          "name": "stderr",
          "text": [
            "100%|██████████| 782/782 [00:09<00:00, 84.19it/s]\n"
          ]
        },
        {
          "output_type": "stream",
          "name": "stdout",
          "text": [
            "训练次数: 1564 , loss: 2.2906548976898193\n",
            "模型已保存\n",
            "整体测试集上的loss:310.14173436164856\n",
            "整体正确率为:0.29170000553131104\n",
            "-----第3轮训练-----\n"
          ]
        },
        {
          "output_type": "stream",
          "name": "stderr",
          "text": [
            "100%|██████████| 782/782 [00:09<00:00, 83.71it/s]\n"
          ]
        },
        {
          "output_type": "stream",
          "name": "stdout",
          "text": [
            "训练次数: 2346 , loss: 2.219635486602783\n",
            "模型已保存\n",
            "整体测试集上的loss:268.7671777009964\n",
            "整体正确率为:0.37599998712539673\n",
            "-----第4轮训练-----\n"
          ]
        },
        {
          "output_type": "stream",
          "name": "stderr",
          "text": [
            "100%|██████████| 782/782 [00:09<00:00, 83.15it/s]\n"
          ]
        },
        {
          "output_type": "stream",
          "name": "stdout",
          "text": [
            "训练次数: 3128 , loss: 2.1815764904022217\n",
            "模型已保存\n",
            "整体测试集上的loss:257.3382202386856\n",
            "整体正确率为:0.40469998121261597\n",
            "-----第5轮训练-----\n"
          ]
        },
        {
          "output_type": "stream",
          "name": "stderr",
          "text": [
            "100%|██████████| 782/782 [00:09<00:00, 83.02it/s]\n"
          ]
        },
        {
          "output_type": "stream",
          "name": "stdout",
          "text": [
            "训练次数: 3910 , loss: 2.101778984069824\n",
            "模型已保存\n",
            "整体测试集上的loss:251.71735882759094\n",
            "整体正确率为:0.421099990606308\n",
            "-----第6轮训练-----\n"
          ]
        },
        {
          "output_type": "stream",
          "name": "stderr",
          "text": [
            "100%|██████████| 782/782 [00:09<00:00, 81.41it/s]\n"
          ]
        },
        {
          "output_type": "stream",
          "name": "stdout",
          "text": [
            "训练次数: 4692 , loss: 1.9930460453033447\n",
            "模型已保存\n",
            "整体测试集上的loss:243.54836177825928\n",
            "整体正确率为:0.4423999786376953\n",
            "-----第7轮训练-----\n"
          ]
        },
        {
          "output_type": "stream",
          "name": "stderr",
          "text": [
            "100%|██████████| 782/782 [00:09<00:00, 84.52it/s]\n"
          ]
        },
        {
          "output_type": "stream",
          "name": "stdout",
          "text": [
            "训练次数: 5474 , loss: 1.873876929283142\n",
            "模型已保存\n",
            "整体测试集上的loss:232.872624874115\n",
            "整体正确率为:0.46769997477531433\n",
            "-----第8轮训练-----\n"
          ]
        },
        {
          "output_type": "stream",
          "name": "stderr",
          "text": [
            "100%|██████████| 782/782 [00:08<00:00, 91.16it/s]\n"
          ]
        },
        {
          "output_type": "stream",
          "name": "stdout",
          "text": [
            "训练次数: 6256 , loss: 1.7579320669174194\n",
            "模型已保存\n",
            "整体测试集上的loss:222.1506451368332\n",
            "整体正确率为:0.49459999799728394\n",
            "-----第9轮训练-----\n"
          ]
        },
        {
          "output_type": "stream",
          "name": "stderr",
          "text": [
            "100%|██████████| 782/782 [00:08<00:00, 90.11it/s]\n"
          ]
        },
        {
          "output_type": "stream",
          "name": "stdout",
          "text": [
            "训练次数: 7038 , loss: 1.6485304832458496\n",
            "模型已保存\n",
            "整体测试集上的loss:211.7776758670807\n",
            "整体正确率为:0.5194999575614929\n",
            "-----第10轮训练-----\n"
          ]
        },
        {
          "output_type": "stream",
          "name": "stderr",
          "text": [
            "100%|██████████| 782/782 [00:09<00:00, 85.35it/s]\n"
          ]
        },
        {
          "output_type": "stream",
          "name": "stdout",
          "text": [
            "训练次数: 7820 , loss: 1.56013023853302\n",
            "模型已保存\n",
            "整体测试集上的loss:202.12842667102814\n",
            "整体正确率为:0.5393999814987183\n"
          ]
        }
      ],
      "source": [
        "import torch\n",
        "import torchvision\n",
        "from torch import nn\n",
        "from torch.utils.data import DataLoader\n",
        "from torch.utils.tensorboard import SummaryWriter\n",
        "from tqdm import tqdm\n",
        "\n",
        "# 准备数据集\n",
        "train_dataset = torchvision.datasets.CIFAR10('../dataset', train=True,\n",
        "                                             transform=torchvision.transforms.ToTensor(), download=True)\n",
        "test_dataset = torchvision.datasets.CIFAR10('../dataset', train=False,\n",
        "                                            transform=torchvision.transforms.ToTensor(), download=True)\n",
        "\n",
        "train_data_length = len(train_dataset)\n",
        "test_data_length = len(test_dataset)\n",
        "print(f'训练集有{train_data_length}张')\n",
        "print(f'测试集有{test_data_length}张')\n",
        "\n",
        "# 利用DataLoader来加载数据集\n",
        "train_loader = DataLoader(train_dataset, batch_size=64)\n",
        "test_loader = DataLoader(test_dataset, batch_size=64)\n",
        "\n",
        "\n",
        "# 创建网络模型\n",
        "class Lms_Net(nn.Module):\n",
        "    def __init__(self):\n",
        "        super().__init__()\n",
        "        self.model = nn.Sequential(\n",
        "            nn.Conv2d(3, 32, 5, 1, 2),\n",
        "            nn.MaxPool2d(2),\n",
        "            nn.Conv2d(32, 32, 5, 1, 2),\n",
        "            nn.MaxPool2d(2),\n",
        "            nn.Conv2d(32, 64, 5, 1, 2),\n",
        "            nn.MaxPool2d(2),\n",
        "            nn.Flatten(),\n",
        "            nn.Linear(1024, 64),\n",
        "            nn.Linear(64, 10)\n",
        "        )\n",
        "\n",
        "    def forward(self, x):\n",
        "        x = self.model(x)\n",
        "        return x\n",
        "\n",
        "Snet = Lms_Net()\n",
        "if torch.cuda.is_available():\n",
        "    Snet = Snet.cuda()\n",
        "\n",
        "# 损失函数\n",
        "loss_fn = nn.CrossEntropyLoss()\n",
        "if torch.cuda.is_available():\n",
        "    loss_fn = loss_fn.cuda()\n",
        "\n",
        "# 优化器\n",
        "learning_rate = 1e-2\n",
        "optimizer = torch.optim.SGD(Snet.parameters(), learning_rate)\n",
        "\n",
        "# 设置一些网络训练的参数\n",
        "# 记录训练次数\n",
        "total_train_step = 0\n",
        "# 记录测试的次数\n",
        "total_test_step = 0\n",
        "# 训练轮数\n",
        "epoch = 10\n",
        "# 添加tensorboard\n",
        "writer = SummaryWriter('../logs')\n",
        "\n",
        "for i in range(epoch):\n",
        "    print(f'-----第{i + 1}轮训练-----')\n",
        "\n",
        "    # 训练步骤开始\n",
        "    for data in tqdm(train_loader):\n",
        "        imgs, targets = data\n",
        "        if torch.cuda.is_available():\n",
        "            imgs = imgs.cuda()\n",
        "            targets = targets.cuda()\n",
        "        outputs = Snet(imgs)\n",
        "        loss = loss_fn(outputs, targets)\n",
        "\n",
        "        # 优化器优化模型\n",
        "        optimizer.zero_grad()\n",
        "        loss.backward()\n",
        "        optimizer.step()\n",
        "\n",
        "        total_train_step += 1\n",
        "\n",
        "        if (total_train_step % 100) == 0:\n",
        "            writer.add_scalar('train_loss', loss.item(), total_train_step)\n",
        "    print(f'训练次数: {total_train_step} , loss: {loss.item()}')\n",
        "\n",
        "    # 测试步骤开始\n",
        "    total_test_loss = 0\n",
        "    total_accuracy = 0\n",
        "    with torch.no_grad():\n",
        "        for data in test_loader:\n",
        "            imgs, targets = data\n",
        "            if torch.cuda.is_available():\n",
        "                imgs = imgs.cuda()\n",
        "                targets = targets.cuda()\n",
        "            outputs = Snet(imgs)\n",
        "            loss = loss_fn(outputs, targets)\n",
        "            total_test_loss += loss.item()\n",
        "            accuracy = (outputs.argmax(1) == targets).sum()\n",
        "            total_accuracy += accuracy\n",
        "\n",
        "    print('模型已保存')\n",
        "    print(f'整体测试集上的loss:{total_test_loss}')\n",
        "    print(f'整体正确率为:{total_accuracy / test_data_length}')\n",
        "    torch.save(Snet, f'checkpoint{i + 1}.pth')\n",
        "    total_test_step += 1\n",
        "    writer.add_scalar('test_loss', total_test_loss, total_test_step)\n",
        "    writer.add_scalar('test_accuracy', total_accuracy / test_data_length, total_test_step)\n",
        "\n",
        "writer.close()\n"
      ]
    }
  ]
}